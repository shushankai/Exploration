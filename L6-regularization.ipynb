{
 "cells": [
  {
   "cell_type": "markdown",
   "id": "a85731d8",
   "metadata": {},
   "source": [
    "# Regularization, Dropout, Early Stopping, Batch Normalization"
   ]
  },
  {
   "cell_type": "markdown",
   "id": "5f6d84ab",
   "metadata": {},
   "source": []
  },
  {
   "cell_type": "markdown",
   "id": "ae7acf3f",
   "metadata": {},
   "source": [
    "## Imports"
   ]
  },
  {
   "cell_type": "code",
   "execution_count": 2,
   "id": "295e75b8",
   "metadata": {},
   "outputs": [],
   "source": [
    "import torch\n",
    "import torch.nn as nn\n",
    "import numpy as np\n",
    "import matplotlib.pyplot as plt\n",
    "import torchvision\n",
    "import torchmetrics\n",
    "import wandb\n",
    "\n",
    "from tqdm.auto import tqdm\n",
    "from torch.nn import functional as F\n",
    "from torch.utils.data import DataLoader\n",
    "from torchvision import transforms\n",
    "from torchsummary import summary\n"
   ]
  },
  {
   "cell_type": "markdown",
   "id": "9ba6c557",
   "metadata": {},
   "source": [
    "## Device and Deterministic "
   ]
  },
  {
   "cell_type": "code",
   "execution_count": null,
   "id": "0a41a5f0",
   "metadata": {},
   "outputs": [],
   "source": [
    "device = torch.device('cuda' if torch.cuda.is_available() else 'cpu')\n"
   ]
  },
  {
   "cell_type": "code",
   "execution_count": 2,
   "id": "651daa2f",
   "metadata": {},
   "outputs": [],
   "source": [
    "# Psudecode\n",
    "# dataset fucntion\n",
    "# data loader\n",
    "# Model \n",
    "# make fucntion - loads everything for use \n",
    "# Model pipeline \n",
    "# configs\n",
    "# train and batch_train\n",
    "# \n"
   ]
  },
  {
   "cell_type": "markdown",
   "id": "36cef8dd",
   "metadata": {},
   "source": [
    "# Wandb login"
   ]
  },
  {
   "cell_type": "code",
   "execution_count": 14,
   "id": "44a16a56",
   "metadata": {},
   "outputs": [
    {
     "name": "stderr",
     "output_type": "stream",
     "text": [
      "\u001b[34m\u001b[1mwandb\u001b[0m: Currently logged in as: \u001b[33mshushanksingh310\u001b[0m (\u001b[33mshushankai\u001b[0m) to \u001b[32mhttps://api.wandb.ai\u001b[0m. Use \u001b[1m`wandb login --relogin`\u001b[0m to force relogin\n"
     ]
    },
    {
     "data": {
      "text/html": [
       "Tracking run with wandb version 0.21.0"
      ],
      "text/plain": [
       "<IPython.core.display.HTML object>"
      ]
     },
     "metadata": {},
     "output_type": "display_data"
    },
    {
     "data": {
      "text/html": [
       "Run data is saved locally in <code>/home/shushanksingh/computer_vision/Exploration/wandb/run-20250810_190530-tu1enhi7</code>"
      ],
      "text/plain": [
       "<IPython.core.display.HTML object>"
      ]
     },
     "metadata": {},
     "output_type": "display_data"
    },
    {
     "data": {
      "text/html": [
       "Syncing run <strong><a href='https://wandb.ai/shushankai/flower102-multirun/runs/tu1enhi7' target=\"_blank\">ModelV3</a></strong> to <a href='https://wandb.ai/shushankai/flower102-multirun' target=\"_blank\">Weights & Biases</a> (<a href='https://wandb.me/developer-guide' target=\"_blank\">docs</a>)<br>"
      ],
      "text/plain": [
       "<IPython.core.display.HTML object>"
      ]
     },
     "metadata": {},
     "output_type": "display_data"
    },
    {
     "data": {
      "text/html": [
       " View project at <a href='https://wandb.ai/shushankai/flower102-multirun' target=\"_blank\">https://wandb.ai/shushankai/flower102-multirun</a>"
      ],
      "text/plain": [
       "<IPython.core.display.HTML object>"
      ]
     },
     "metadata": {},
     "output_type": "display_data"
    },
    {
     "data": {
      "text/html": [
       " View run at <a href='https://wandb.ai/shushankai/flower102-multirun/runs/tu1enhi7' target=\"_blank\">https://wandb.ai/shushankai/flower102-multirun/runs/tu1enhi7</a>"
      ],
      "text/plain": [
       "<IPython.core.display.HTML object>"
      ]
     },
     "metadata": {},
     "output_type": "display_data"
    },
    {
     "data": {
      "text/html": [
       "<button onClick=\"this.nextSibling.style.display='block';this.style.display='none';\">Display W&B run</button><iframe src='https://wandb.ai/shushankai/flower102-multirun/runs/tu1enhi7?jupyter=true' style='border:none;width:100%;height:420px;display:none;'></iframe>"
      ],
      "text/plain": [
       "<wandb.sdk.wandb_run.Run at 0x7f2c2ea55c10>"
      ]
     },
     "execution_count": 14,
     "metadata": {},
     "output_type": "execute_result"
    }
   ],
   "source": [
    "wandb.init(\n",
    "    project= 'flower102-multirun',\n",
    "    name = 'ModelV3' ,\n",
    "    job_type = 'model-training',\n",
    ")\n"
   ]
  },
  {
   "cell_type": "code",
   "execution_count": 3,
   "id": "5cb58f74",
   "metadata": {},
   "outputs": [],
   "source": [
    "config = dict(\n",
    "    img_heigth = 224,\n",
    "    img_width = 224, \n",
    "    in_channels = 3, \n",
    "    batch_size = 16,\n",
    "    epoch = 10,\n",
    "    hidden_units = 64,\n",
    "    in_features = int(224 * 224 * 3),\n",
    "    out_features = 102,\n",
    "    learning_rate = 1e-3\n",
    ")\n"
   ]
  },
  {
   "cell_type": "code",
   "execution_count": null,
   "id": "bba8ea0b",
   "metadata": {},
   "outputs": [
    {
     "data": {
      "text/plain": [
       "{'img_heigth': 224,\n",
       " 'img_width': 224,\n",
       " 'in_channels': 3,\n",
       " 'batch_size': 16,\n",
       " 'epoch': 10,\n",
       " 'hidden_units': 64,\n",
       " 'in_features': 150528,\n",
       " 'out_features': 102,\n",
       " 'learning_rate': 0.001}"
      ]
     },
     "execution_count": 4,
     "metadata": {},
     "output_type": "execute_result"
    }
   ],
   "source": [
    "config\n"
   ]
  },
  {
   "cell_type": "markdown",
   "id": "039d5d17",
   "metadata": {},
   "source": [
    "# Dataset and Dataloader \n"
   ]
  },
  {
   "cell_type": "code",
   "execution_count": 16,
   "metadata": {},
   "outputs": [],
   "source": [
    "def get_data(split, transform, subset=False, slice=5):\n",
    "    \"\"\"\"\"\"\n",
    "    path = \"Data/train/\"\n",
    "    \n",
    "    if split == 'val':\n",
    "        path = 'Data/val/'\n",
    "    \n",
    "    if split == 'test':\n",
    "        path = \"Data/test/\"\n",
    "        \n",
    "    full_dataset = torchvision.datasets.Flower102(\n",
    "        root = path, \n",
    "        download = True, \n",
    "        transform = transform,\n",
    "        split= split\n",
    "    )\n",
    "    \n",
    "    if subset:\n",
    "        sub_dataset = torch.utils.data.Subset(\n",
    "            dataset = full_dataset,\n",
    "            indices = range(0, len(full_dataset), slice)\n",
    "        )\n",
    "        return sub_dataset\n",
    "    return full_dataset\n",
    "    \n",
    "    \n"
   ]
  },
  {
   "cell_type": "code",
   "execution_count": 11,
   "id": "48d2a14f",
   "metadata": {},
   "outputs": [],
   "source": [
    "def transform(resize):\n",
    "    return transforms([\n",
    "        transforms.Resize(resize),\n",
    "        transforms.ToTensor()\n",
    "    ])\n",
    "\n"
   ]
  },
  {
   "cell_type": "code",
   "execution_count": null,
   "id": "bd0377e9",
   "metadata": {},
   "outputs": [],
   "source": [
    "def make_loader(dataset, batch_size, shuffle):\n",
    "    loader = DataLoader(\n",
    "        dataset = dataset,\n",
    "        batch_size = batch_size, \n",
    "        shuffle = shuffle,\n",
    "        num_worker = 2,\n",
    "        pin_memory = True\n",
    "    )\n",
    "    return loader\n"
   ]
  },
  {
   "cell_type": "markdown",
   "id": "370643aa",
   "metadata": {},
   "source": [
    "## Model"
   ]
  },
  {
   "cell_type": "code",
   "execution_count": 3,
   "id": "0bd52aa5",
   "metadata": {},
   "outputs": [],
   "source": [
    "class ModelV3(nn.Module):\n",
    "    def __init__(self, in_features, out_features, hidden_units):\n",
    "        super(ModelV3, self).__init__()\n",
    "        self.flatten = nn.Flatten()\n",
    "        self.layer1 = nn.Linear(\n",
    "            in_features = in_features, \n",
    "            out_features = hidden_units,\n",
    "            bias = True\n",
    "        )\n",
    "        self.layer2 = nn.Linear(\n",
    "            in_features = hidden_units, \n",
    "            out_features = out_features,\n",
    "            bias = True\n",
    "        )\n",
    "        self.relu = nn.ReLU()\n",
    "        \n",
    "    def forward(self, x):\n",
    "        x = self.flatten(x)\n",
    "        x = self.layer1(x)\n",
    "        x = self.relu(x)\n",
    "        x = self.layer2(x)\n",
    "        return x\n"
   ]
  },
  {
   "cell_type": "markdown",
   "id": "41f4cd4b",
   "metadata": {},
   "source": [
    "## Train"
   ]
  },
  {
   "cell_type": "code",
   "execution_count": 15,
   "id": "1205d435",
   "metadata": {},
   "outputs": [],
   "source": [
    "def train(model, loader, loss, optimizer, config):\n",
    "    wandb.watch(\n",
    "        models = model,\n",
    "        criterion = loss,\n",
    "        log = 'all',\n",
    "        log_freq = 10\n",
    "    )\n",
    "    \n",
    "    total_batch = len(loader) * config.epochs\n",
    "    example_ct = 0\n",
    "    batch_ct = 0\n",
    "    \n",
    "    model.train()\n",
    "    \n",
    "    for epoch in tqdm(range(config.epochs)):\n",
    "        for _, (images, labels) in enumerate(loader):\n",
    "            loss = train_batch(images, labels, model, optimizer, loss)\n",
    "            example_ct += 1\n",
    "            batch_ct += 1\n",
    "            \n",
    "            if (batch_ct + 1) % 25 == 0:\n",
    "                train_log(loss, example_ct, epoch)\n",
    "                \n",
    "\n",
    "def train_batch(images, labels, model, optimizer, loss_fn):\n",
    "    images, labels = images.to(device) , labels.to(device)\n",
    "    \n",
    "    logits = model(images)\n",
    "    batch_loss = loss_fn(logits, labels)\n",
    "    optimizer.zero_grad()\n",
    "    batch_loss.backward()\n",
    "    optimizer.step()\n",
    "\n",
    "    return batch_loss\n",
    "    \n",
    "    \n",
    "def train_log(loss, example_ct, epoch):\n",
    "    # Where the magic happens\n",
    "    wandb.log({\"epoch\": epoch, \"loss\": loss}, step=example_ct)\n",
    "    print(f\"Loss after {str(example_ct).zfill(5)} examples: {loss:.3f}\")\n",
    "    \n"
   ]
  },
  {
   "cell_type": "code",
   "execution_count": 17,
   "id": "809d6e78",
   "metadata": {},
   "outputs": [],
   "source": [
    "def make(config):\n",
    "    model = ModelV3(\n",
    "        \n",
    "    )\n",
    "    flower_transform = transform(resize= [224, 224])\n",
    "    train_dataset = get_data(\n",
    "        split= 'train',\n",
    "        transform= flower_transform,\n",
    "        subset= False,\n",
    "    )\n",
    "    val_dataset = get_data(\n",
    "        split= 'val',\n",
    "        transform= flower_transform,\n",
    "        subset= False\n",
    "    )\n",
    "    \n",
    "    train_loader , val_loader = make_loader(\n",
    "        dataset = train_dataset, batch_size= config.batch_size, shuffle= True\n",
    "    ), \n",
    "    make_loader(\n",
    "        dataset= val_dataset, batch_size= config.batch_size, shuffle= True\n",
    "    )\n",
    "    "
   ]
  },
  {
   "cell_type": "code",
   "execution_count": 18,
   "id": "8539b5ba",
   "metadata": {},
   "outputs": [
    {
     "data": {
      "text/plain": [
       "ModelV3(\n",
       "  (flatten): Flatten(start_dim=1, end_dim=-1)\n",
       "  (layer1): Linear(in_features=150528, out_features=64, bias=True)\n",
       "  (layer2): Linear(in_features=64, out_features=102, bias=True)\n",
       "  (relu): ReLU()\n",
       ")"
      ]
     },
     "execution_count": 18,
     "metadata": {},
     "output_type": "execute_result"
    }
   ],
   "source": [
    "model = ModelV3(\n",
    "    in_features= 150528,\n",
    "    out_features= 102, \n",
    "    hidden_units= 64\n",
    ")\n",
    "model\n"
   ]
  },
  {
   "cell_type": "code",
   "execution_count": null,
   "id": "873dbe8a",
   "metadata": {},
   "outputs": [],
   "source": [
    "\n"
   ]
  },
  {
   "cell_type": "code",
   "execution_count": null,
   "id": "bb5bba4c",
   "metadata": {},
   "outputs": [],
   "source": []
  },
  {
   "cell_type": "code",
   "execution_count": null,
   "id": "db1cbd66",
   "metadata": {},
   "outputs": [],
   "source": []
  },
  {
   "cell_type": "code",
   "execution_count": null,
   "id": "ec0c0da3",
   "metadata": {},
   "outputs": [],
   "source": []
  },
  {
   "cell_type": "code",
   "execution_count": null,
   "id": "188aeaee",
   "metadata": {},
   "outputs": [],
   "source": []
  },
  {
   "cell_type": "code",
   "execution_count": null,
   "id": "08d95b9c",
   "metadata": {},
   "outputs": [],
   "source": []
  },
  {
   "cell_type": "code",
   "execution_count": null,
   "id": "d2ce7e67",
   "metadata": {},
   "outputs": [],
   "source": []
  },
  {
   "cell_type": "code",
   "execution_count": null,
   "id": "95089f5a",
   "metadata": {},
   "outputs": [],
   "source": []
  },
  {
   "cell_type": "code",
   "execution_count": null,
   "id": "65400aa8",
   "metadata": {},
   "outputs": [],
   "source": []
  },
  {
   "cell_type": "code",
   "execution_count": null,
   "id": "1a41cd81",
   "metadata": {},
   "outputs": [],
   "source": []
  },
  {
   "cell_type": "code",
   "execution_count": null,
   "id": "de8be807",
   "metadata": {},
   "outputs": [],
   "source": []
  },
  {
   "cell_type": "code",
   "execution_count": null,
   "id": "f411072e",
   "metadata": {},
   "outputs": [],
   "source": [
    "\n",
    "\n"
   ]
  }
 ],
 "metadata": {
  "kernelspec": {
   "display_name": "DL-env",
   "language": "python",
   "name": "python3"
  },
  "language_info": {
   "codemirror_mode": {
    "name": "ipython",
    "version": 3
   },
   "file_extension": ".py",
   "mimetype": "text/x-python",
   "name": "python",
   "nbconvert_exporter": "python",
   "pygments_lexer": "ipython3",
   "version": "3.11.13"
  }
 },
 "nbformat": 4,
 "nbformat_minor": 5
}
