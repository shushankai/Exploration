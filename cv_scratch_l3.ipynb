{
 "cells": [
  {
   "cell_type": "markdown",
   "id": "714e462d",
   "metadata": {},
   "source": [
    "# Linear NN for images\n"
   ]
  },
  {
   "cell_type": "markdown",
   "id": "1ec5589e",
   "metadata": {},
   "source": [
    "## Imports\n"
   ]
  },
  {
   "cell_type": "code",
   "execution_count": 1,
   "id": "43b434fb",
   "metadata": {},
   "outputs": [],
   "source": [
    "import os \n",
    "import pathlib\n",
    "import torch \n",
    "import torchvision\n",
    "import numpy as np\n",
    "import matplotlib.pyplot as plt\n",
    "\n",
    "from torch import nn\n",
    "from torch.nn import functional as F\n",
    "from torch.utils.data import DataLoader\n"
   ]
  },
  {
   "cell_type": "markdown",
   "id": "165a8fd3",
   "metadata": {},
   "source": [
    "## Constants\n"
   ]
  },
  {
   "cell_type": "code",
   "execution_count": 2,
   "id": "db550b8e",
   "metadata": {},
   "outputs": [],
   "source": [
    "IMG_HEIGTH = 224\n",
    "IMG_WIDTH = 224\n",
    "IMG_CHANNELS = 3\n",
    "\n",
    "CLASS_NAMES = np.array(torchvision.datasets.Flowers102.classes)\n",
    "\n"
   ]
  },
  {
   "cell_type": "markdown",
   "id": "13d7703c",
   "metadata": {},
   "source": [
    "## TO DO\n"
   ]
  },
  {
   "cell_type": "markdown",
   "id": "e7acf981",
   "metadata": {},
   "source": [
    "1. Load the dataset\n",
    "2. JPEG to rgb\n",
    "3. scale to 0-1\n",
    "4. resize to 244*244*3\n",
    "5. sanity check\n"
   ]
  },
  {
   "cell_type": "code",
   "execution_count": 3,
   "id": "4e99910e",
   "metadata": {},
   "outputs": [],
   "source": [
    "# !pip install scipy\n",
    "    "
   ]
  },
  {
   "cell_type": "code",
   "execution_count": 4,
   "id": "d6f98739",
   "metadata": {},
   "outputs": [],
   "source": [
    "# The dataset we are going to use is Oxford Flowers 102\n",
    "# we will use the torchvision.datasets to load the dataset \n",
    "# intially the torchvision.datasets.Flower102 return a image path not tensors \n",
    "# we will use the loader = torchvision.io.decode_image to convert the raw bytes stream to tensor in CHW format\n",
    "# the root path - this check if the dataset is already present or else do we need to dowload it \n",
    "\n",
    "# We will also need to transform the image as per our requirements \n",
    "\n",
    "def one_hot_encode(x):\n",
    "    return F.one_hot(torch.tensor(x), num_classes=102)\n",
    "\n",
    "flower_transform = torchvision.transforms.Compose([\n",
    "    torchvision.transforms.Resize((IMG_HEIGTH, IMG_WIDTH)),\n",
    "    torchvision.transforms.ToTensor(),\n",
    "])\n",
    "\n",
    "train_dataset = torchvision.datasets.Flowers102(\n",
    "    root = \"Data/train/\", \n",
    "    download=True,\n",
    "    split= \"train\",\n",
    "    # loader= torchvision.io.decode_image,\n",
    "    transform= flower_transform, \n",
    "    # target_transform= one_hot_encode\n",
    ")\n",
    "\n",
    "\n"
   ]
  },
  {
   "cell_type": "code",
   "execution_count": 5,
   "id": "559fbf7c",
   "metadata": {},
   "outputs": [],
   "source": [
    "val_dataset = torchvision.datasets.Flowers102(\n",
    "    root = \"Data/eval/\", \n",
    "    download=True,\n",
    "    split= \"val\",\n",
    "    # loader= torchvision.io.decode_image,\n",
    "    transform= flower_transform, \n",
    "    # target_transform= one_hot_encode\n",
    ")\n"
   ]
  },
  {
   "cell_type": "code",
   "execution_count": 6,
   "id": "c0345dd5",
   "metadata": {},
   "outputs": [],
   "source": [
    "train_loader = DataLoader(\n",
    "    dataset= train_dataset,\n",
    "    batch_size= 16,\n",
    "    shuffle= True, \n",
    "    num_workers= 0,\n",
    ")\n",
    "\n",
    "val_loader = DataLoader(\n",
    "    dataset= val_dataset,\n",
    "    batch_size= 16,\n",
    "    shuffle= True, \n",
    "    num_workers= 0,\n",
    ")\n",
    "\n"
   ]
  },
  {
   "cell_type": "code",
   "execution_count": 8,
   "id": "6f03649b",
   "metadata": {},
   "outputs": [],
   "source": [
    "# x = torch.tensor(0)\n",
    "# for img, label in train_dataset:\n",
    "#     plt.imshow(img.permute(1, 2, 0).numpy())\n",
    "#     print(img.shape, img.dtype, label.shape, label.dtype)\n",
    "#     break\n"
   ]
  },
  {
   "cell_type": "code",
   "execution_count": 9,
   "id": "70281bce",
   "metadata": {},
   "outputs": [],
   "source": [
    "# Lets build a linear model for image classification \n",
    "# Flatten the image \n",
    "# Dense fully connected layer\n",
    "# Softmax \n"
   ]
  },
  {
   "cell_type": "markdown",
   "id": "24a7ac3d",
   "metadata": {},
   "source": [
    "!<img src=\"assest/image.png\" height=\"500\" col>"
   ]
  },
  {
   "cell_type": "code",
   "execution_count": 10,
   "id": "b1645607",
   "metadata": {},
   "outputs": [],
   "source": [
    "DEVICE = torch.device('cuda' if torch.cuda.is_available() else 'cpu')\n"
   ]
  },
  {
   "cell_type": "code",
   "execution_count": 11,
   "id": "efda9211",
   "metadata": {},
   "outputs": [],
   "source": [
    "class ModelV1(nn.Module):\n",
    "    def __init__(self, in_features, out_features, bias=True, device=DEVICE):\n",
    "        super().__init__()\n",
    "        self.Linear = nn.Linear(\n",
    "            in_features= in_features,\n",
    "            out_features= out_features, \n",
    "            bias= bias,\n",
    "            device= device\n",
    "        )\n",
    "        self.flatten = nn.Flatten()\n",
    "        \n",
    "    def forward(self, x):\n",
    "        x = self.flatten(x)\n",
    "        # print(x.shape, x.ndim)\n",
    "        x = self.Linear(x)\n",
    "        # print(x.shape, x.ndim)\n",
    "        return x\n",
    "    \n",
    "\n",
    "\n",
    "        \n"
   ]
  },
  {
   "cell_type": "code",
   "execution_count": 12,
   "id": "c22ea673",
   "metadata": {},
   "outputs": [
    {
     "data": {
      "text/plain": [
       "ModelV1(\n",
       "  (Linear): Linear(in_features=150528, out_features=102, bias=True)\n",
       "  (flatten): Flatten(start_dim=1, end_dim=-1)\n",
       ")"
      ]
     },
     "execution_count": 12,
     "metadata": {},
     "output_type": "execute_result"
    }
   ],
   "source": [
    "model = ModelV1(\n",
    "    in_features=224*224*3, \n",
    "    out_features=102,\n",
    "    bias=True,\n",
    "    device=DEVICE\n",
    ")\n",
    "model\n"
   ]
  },
  {
   "cell_type": "code",
   "execution_count": 13,
   "id": "5a97c5e8",
   "metadata": {},
   "outputs": [],
   "source": [
    "loss_fn = nn.CrossEntropyLoss()\n",
    "optim = torch.optim.Adam(model.parameters(), lr=0.1)\n"
   ]
  },
  {
   "cell_type": "code",
   "execution_count": 34,
   "id": "f146f193",
   "metadata": {},
   "outputs": [
    {
     "name": "stdout",
     "output_type": "stream",
     "text": [
      "Epoch 1/50, Loss: 1502.3122\n",
      "Epoch 2/50, Loss: 1638.7358\n",
      "Epoch 3/50, Loss: 1054.3946\n",
      "Epoch 4/50, Loss: 1104.5648\n",
      "Epoch 5/50, Loss: 1119.6069\n",
      "Epoch 6/50, Loss: 1180.9237\n",
      "Epoch 7/50, Loss: 975.1878\n",
      "Epoch 8/50, Loss: 994.0001\n",
      "Epoch 9/50, Loss: 854.0326\n",
      "Epoch 10/50, Loss: 665.7582\n",
      "Epoch 11/50, Loss: 643.6660\n",
      "Epoch 12/50, Loss: 660.0657\n",
      "Epoch 13/50, Loss: 790.3192\n",
      "Epoch 14/50, Loss: 783.9076\n",
      "Epoch 15/50, Loss: 621.1813\n",
      "Epoch 16/50, Loss: 804.3174\n",
      "Epoch 17/50, Loss: 641.1059\n",
      "Epoch 18/50, Loss: 882.5303\n",
      "Epoch 19/50, Loss: 1008.4767\n",
      "Epoch 20/50, Loss: 1002.6004\n",
      "Epoch 21/50, Loss: 447.0732\n",
      "Epoch 22/50, Loss: 362.2789\n",
      "Epoch 23/50, Loss: 319.1357\n",
      "Epoch 24/50, Loss: 256.2220\n",
      "Epoch 25/50, Loss: 410.3790\n",
      "Epoch 26/50, Loss: 456.4258\n",
      "Epoch 27/50, Loss: 380.1931\n",
      "Epoch 28/50, Loss: 508.3502\n",
      "Epoch 29/50, Loss: 684.8452\n",
      "Epoch 30/50, Loss: 347.5168\n",
      "Epoch 31/50, Loss: 204.9462\n",
      "Epoch 32/50, Loss: 490.7810\n",
      "Epoch 33/50, Loss: 496.7004\n",
      "Epoch 34/50, Loss: 486.6208\n",
      "Epoch 35/50, Loss: 456.1926\n",
      "Epoch 36/50, Loss: 399.7328\n",
      "Epoch 37/50, Loss: 1329.0900\n",
      "Epoch 38/50, Loss: 1111.4029\n",
      "Epoch 39/50, Loss: 767.7973\n",
      "Epoch 40/50, Loss: 430.9710\n",
      "Epoch 41/50, Loss: 184.8701\n",
      "Epoch 42/50, Loss: 227.5338\n",
      "Epoch 43/50, Loss: 294.2547\n",
      "Epoch 44/50, Loss: 637.5196\n",
      "Epoch 45/50, Loss: 723.1013\n",
      "Epoch 46/50, Loss: 439.6015\n",
      "Epoch 47/50, Loss: 596.1004\n",
      "Epoch 48/50, Loss: 1037.2827\n",
      "Epoch 49/50, Loss: 423.1514\n",
      "Epoch 50/50, Loss: 180.3328\n"
     ]
    }
   ],
   "source": [
    "EPOCHS = 50\n",
    "loss_per_epoch = []\n",
    "\n",
    "for epoch in range(EPOCHS):\n",
    "    model.train()\n",
    "    batch_losses = []\n",
    "    for x, y in train_loader:\n",
    "        x, y = x.to(DEVICE), y.to(DEVICE)\n",
    "        # Forward pass\n",
    "        y_pred = model(x)\n",
    "        # Shape of y_pred (16, 102)\n",
    "        # the y_preds are logits we will get the probabilities of the logits \n",
    "        # this is taken care inside of the loss_fn\n",
    "        loss = loss_fn(y_pred, y)\n",
    "\n",
    "        \n",
    "        optim.zero_grad()\n",
    "        # Backward pass\n",
    "        loss.backward()\n",
    "        \n",
    "        # Optimizer step\n",
    "        optim.step()\n",
    "\n",
    "        batch_losses.append(loss.item())\n",
    "\n",
    "    avg_loss = sum(batch_losses) / len(batch_losses)\n",
    "    print(f\"Epoch {epoch+1}/{EPOCHS}, Loss: {avg_loss:.4f}\")\n",
    "    loss_per_epoch.append(avg_loss)\n"
   ]
  },
  {
   "cell_type": "code",
   "execution_count": 37,
   "id": "ca3839f0",
   "metadata": {},
   "outputs": [
    {
     "data": {
      "text/plain": [
       "[<matplotlib.lines.Line2D at 0x7f8101c476d0>]"
      ]
     },
     "execution_count": 37,
     "metadata": {},
     "output_type": "execute_result"
    },
    {
     "data": {
      "image/png": "[encoded data removed]",
      "text/plain": [
       "<Figure size 640x480 with 1 Axes>"
      ]
     },
     "metadata": {},
     "output_type": "display_data"
    }
   ],
   "source": [
    "plt.plot(loss_per_epoch)\n"
   ]
  },
  {
   "cell_type": "code",
   "execution_count": 46,
   "id": "249a7c70",
   "metadata": {},
   "outputs": [
    {
     "name": "stderr",
     "output_type": "stream",
     "text": [
      "  3%|▎         | 2/64 [00:00<00:04, 13.04it/s]"
     ]
    },
    {
     "name": "stderr",
     "output_type": "stream",
     "text": [
      "100%|██████████| 64/64 [00:05<00:00, 11.45it/s]"
     ]
    },
    {
     "name": "stdout",
     "output_type": "stream",
     "text": [
      "Validation Accuracy: 10.49%\n"
     ]
    },
    {
     "name": "stderr",
     "output_type": "stream",
     "text": [
      "\n"
     ]
    }
   ],
   "source": [
    "import torch\n",
    "import torch.nn.functional as F\n",
    "import matplotlib.pyplot as plt\n",
    "from torchmetrics.classification import Accuracy\n",
    "from tqdm import tqdm\n",
    "\n",
    "pred_class_name_per_batch = []\n",
    "pred_class_idx_pre_batch = []\n",
    "batch_accuracies = []\n",
    "\n",
    "acc = Accuracy(task='multiclass', num_classes=102).to(DEVICE)\n",
    "\n",
    "model.eval()\n",
    "with torch.no_grad():\n",
    "    for img, label in tqdm(val_loader):\n",
    "        img, label = img.to(DEVICE), label.to(DEVICE)\n",
    "\n",
    "        logits = model(img)\n",
    "        probs = F.softmax(logits, dim=1)\n",
    "        pred_class_idx = torch.argmax(probs, dim=1)\n",
    "\n",
    "        # Store predictions\n",
    "        pred_class_idx_pre_batch.append(pred_class_idx.cpu())\n",
    "        pred_class_name_per_batch.append([CLASS_NAMES[i] for i in pred_class_idx.cpu()])\n",
    "\n",
    "        # Update global accuracy metric\n",
    "        acc.update(pred_class_idx, label)\n",
    "\n",
    "        # ✅ Compute batch accuracy manually\n",
    "        batch_acc = (pred_class_idx == label).sum().item() / len(label)\n",
    "        batch_accuracies.append(batch_acc)\n",
    "\n",
    "# Compute overall accuracy\n",
    "val_acc = acc.compute()\n",
    "print(f\"Validation Accuracy: {val_acc.item() * 100:.2f}%\")\n"
   ]
  },
  {
   "cell_type": "code",
   "execution_count": null,
   "id": "4e9ad076",
   "metadata": {},
   "outputs": [
    {
     "data": {
      "image/png": "[encoded data removed]",
      "text/plain": [
       "<Figure size 1000x500 with 1 Axes>"
      ]
     },
     "metadata": {},
     "output_type": "display_data"
    }
   ],
   "source": [
    "\n",
    "plt.figure(figsize=(10, 5))\n",
    "plt.plot(batch_accuracies, marker='o')\n",
    "plt.title(\"Per-Batch Validation Accuracy\")\n",
    "plt.xlabel(\"Batch Index\")\n",
    "plt.ylabel(\"Accuracy\")\n",
    "plt.grid(True)\n",
    "plt.ylim(0, 1.05)\n",
    "plt.show()\n"
   ]
  },
  {
   "cell_type": "code",
   "execution_count": null,
   "id": "d793b4e0",
   "metadata": {},
   "outputs": [],
   "source": [
    "# import torchmetrics\n",
    "# batch = next(iter(val_loader))\n",
    "# img , label = batch\n",
    "# for i in range(16):\n",
    "#     print(f\"Predicted class index: {pred_class_idx_pre_batch[0][i]}\")\n",
    "#     print(f\"Predicted class name: {pred_class_name_per_batch[0][i]}\")\n",
    "#     print(f\"True label index: {label[i]}\")\n",
    "#     print(f\"True label name: {CLASS_NAMES[label[i]]}\")\n",
    "\n",
    "\n",
    "\n"
   ]
  },
  {
   "cell_type": "markdown",
   "id": "6c422ac8",
   "metadata": {},
   "source": [
    "## How to improve the model "
   ]
  },
  {
   "cell_type": "markdown",
   "id": "57d29a03",
   "metadata": {},
   "source": [
    "We can see the accuracy of our model is very low \n",
    "some ways we can imporve our model are\n",
    "1. using deeper neural network \n",
    "2. using activation functions \n",
    "3. using convolution layers \n"
   ]
  },
  {
   "cell_type": "code",
   "execution_count": null,
   "id": "8b134b3c",
   "metadata": {},
   "outputs": [],
   "source": []
  },
  {
   "cell_type": "code",
   "execution_count": null,
   "id": "e762b92b",
   "metadata": {},
   "outputs": [],
   "source": [
    "\n"
   ]
  },
  {
   "cell_type": "code",
   "execution_count": null,
   "id": "4d57ac2c",
   "metadata": {},
   "outputs": [],
   "source": []
  },
  {
   "cell_type": "code",
   "execution_count": null,
   "id": "0e42eb48",
   "metadata": {},
   "outputs": [],
   "source": []
  },
  {
   "cell_type": "code",
   "execution_count": null,
   "id": "f19cd8d8",
   "metadata": {},
   "outputs": [],
   "source": []
  },
  {
   "cell_type": "code",
   "execution_count": null,
   "id": "a7f2aceb",
   "metadata": {},
   "outputs": [],
   "source": []
  }
 ],
 "metadata": {
  "kernelspec": {
   "display_name": "DL-env",
   "language": "python",
   "name": "python3"
  },
  "language_info": {
   "codemirror_mode": {
    "name": "ipython",
    "version": 3
   },
   "file_extension": ".py",
   "mimetype": "text/x-python",
   "name": "python",
   "nbconvert_exporter": "python",
   "pygments_lexer": "ipython3",
   "version": "3.11.13"
  }
 },
 "nbformat": 4,
 "nbformat_minor": 5
}
