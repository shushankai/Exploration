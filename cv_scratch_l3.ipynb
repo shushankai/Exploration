{
 "cells": [
  {
   "cell_type": "markdown",
   "id": "714e462d",
   "metadata": {},
   "source": [
    "# Linear NN for images"
   ]
  },
  {
   "cell_type": "markdown",
   "id": "1ec5589e",
   "metadata": {},
   "source": [
    "## Imports "
   ]
  },
  {
   "cell_type": "code",
   "execution_count": 1,
   "id": "43b434fb",
   "metadata": {},
   "outputs": [],
   "source": [
    "import tensorflow as tf\n",
    "import numpy as np \n",
    "import matplotlib\n",
    "\n"
   ]
  },
  {
   "cell_type": "markdown",
   "id": "165a8fd3",
   "metadata": {},
   "source": [
    "## Constants"
   ]
  },
  {
   "cell_type": "code",
   "execution_count": 2,
   "id": "db550b8e",
   "metadata": {},
   "outputs": [],
   "source": [
    "IMG_HEIGTH = 224\n",
    "IMG_WIDTH = 224\n",
    "IMG_CHANNELS  = 3\n",
    "\n",
    "\n",
    "CLASS_NAMES = ['display', 'dandelion', 'roses', 'sunflowers', 'tulips']\n"
   ]
  },
  {
   "cell_type": "code",
   "execution_count": null,
   "id": "e7acf981",
   "metadata": {},
   "outputs": [],
   "source": []
  }
 ],
 "metadata": {
  "kernelspec": {
   "display_name": "DL-env",
   "language": "python",
   "name": "python3"
  },
  "language_info": {
   "codemirror_mode": {
    "name": "ipython",
    "version": 3
   },
   "file_extension": ".py",
   "mimetype": "text/x-python",
   "name": "python",
   "nbconvert_exporter": "python",
   "pygments_lexer": "ipython3",
   "version": "3.11.13"
  }
 },
 "nbformat": 4,
 "nbformat_minor": 5
}
