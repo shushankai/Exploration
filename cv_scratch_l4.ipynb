{
 "cells": [
  {
   "cell_type": "markdown",
   "id": "6b1d527b",
   "metadata": {},
   "source": [
    "# Building 2 hidden-layer nerual network"
   ]
  },
  {
   "cell_type": "markdown",
   "id": "22657660",
   "metadata": {},
   "source": [
    "## Imports and dataloader"
   ]
  },
  {
   "cell_type": "code",
   "execution_count": 1,
   "id": "dfa815f3",
   "metadata": {},
   "outputs": [],
   "source": [
    "import torch\n",
    "import numpy as np\n",
    "import torchvision\n",
    "import matplotlib.pyplot as plt\n",
    "\n",
    "from tqdm import tqdm\n",
    "from  torch.nn import functional as F\n",
    "from torchvision import transforms\n",
    "from torch.utils.data import DataLoader\n",
    "from torchvision.datasets import Flowers102\n"
   ]
  },
  {
   "cell_type": "code",
   "execution_count": 2,
   "id": "12dd44bf",
   "metadata": {},
   "outputs": [],
   "source": [
    "IMG_HEIGTH = 224\n",
    "IMG_WIDTH = 224\n",
    "IMG_CHANNELS = 3\n",
    "\n",
    "CLASS_NAMES = np.array(Flowers102.classes)\n",
    "\n"
   ]
  },
  {
   "cell_type": "code",
   "execution_count": 3,
   "id": "ded3ace1",
   "metadata": {},
   "outputs": [],
   "source": [
    "flower_transform = transforms.Compose([\n",
    "    transforms.Resize([IMG_HEIGTH, IMG_WIDTH]),\n",
    "    transforms.ToTensor()\n",
    "])\n"
   ]
  },
  {
   "cell_type": "code",
   "execution_count": 4,
   "id": "bca56af4",
   "metadata": {},
   "outputs": [],
   "source": [
    "train_dataset = Flowers102(\n",
    "    root=\"Data/train/\",\n",
    "    download= True, \n",
    "    transform= flower_transform, \n",
    "    split=\"train\"\n",
    ")\n",
    "\n",
    "val_dataset = Flowers102(\n",
    "    root=\"Data/eval/\",\n",
    "    download= True, \n",
    "    transform= flower_transform, \n",
    "    split=\"val\"\n",
    ")\n"
   ]
  },
  {
   "cell_type": "code",
   "execution_count": 5,
   "id": "615a0a24",
   "metadata": {},
   "outputs": [],
   "source": [
    "train_loader = DataLoader(\n",
    "    dataset= train_dataset, \n",
    "    batch_size= 16 , \n",
    "    num_workers= 0, \n",
    "    shuffle= True\n",
    ")\n",
    "\n",
    "val_loader = DataLoader(\n",
    "    dataset= val_dataset, \n",
    "    batch_size= 16, \n",
    "    num_workers= 0, \n",
    "    shuffle= True\n",
    ")\n"
   ]
  },
  {
   "cell_type": "markdown",
   "id": "dc3b9447",
   "metadata": {},
   "source": [
    "## Model"
   ]
  },
  {
   "cell_type": "code",
   "execution_count": null,
   "id": "4610b968",
   "metadata": {},
   "outputs": [],
   "source": []
  },
  {
   "cell_type": "code",
   "execution_count": null,
   "id": "8dfd2ef6",
   "metadata": {},
   "outputs": [],
   "source": []
  }
 ],
 "metadata": {
  "kernelspec": {
   "display_name": "DL-env",
   "language": "python",
   "name": "python3"
  },
  "language_info": {
   "codemirror_mode": {
    "name": "ipython",
    "version": 3
   },
   "file_extension": ".py",
   "mimetype": "text/x-python",
   "name": "python",
   "nbconvert_exporter": "python",
   "pygments_lexer": "ipython3",
   "version": "3.11.13"
  }
 },
 "nbformat": 4,
 "nbformat_minor": 5
}
